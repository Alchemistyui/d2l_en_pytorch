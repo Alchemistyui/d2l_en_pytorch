{
 "cells": [
  {
   "cell_type": "code",
   "execution_count": 12,
   "metadata": {},
   "outputs": [],
   "source": [
    "import torch\n",
    "import torch.nn as nn"
   ]
  },
  {
   "cell_type": "markdown",
   "metadata": {},
   "source": [
    "# Tensors"
   ]
  },
  {
   "cell_type": "code",
   "execution_count": 2,
   "metadata": {},
   "outputs": [],
   "source": [
    "x = torch.arange(4, dtype=torch.float32)\n",
    "torch.save(x, 'tensor_file')"
   ]
  },
  {
   "cell_type": "code",
   "execution_count": 5,
   "metadata": {},
   "outputs": [],
   "source": [
    "x_cp = torch.load('tensor_file')"
   ]
  },
  {
   "cell_type": "code",
   "execution_count": 6,
   "metadata": {},
   "outputs": [
    {
     "data": {
      "text/plain": [
       "(tensor([0., 1., 2., 3.]), tensor([True, True, True, True]))"
      ]
     },
     "execution_count": 6,
     "metadata": {},
     "output_type": "execute_result"
    }
   ],
   "source": [
    "x_cp, x == x_cp"
   ]
  },
  {
   "cell_type": "markdown",
   "metadata": {},
   "source": [
    "## list of tensor"
   ]
  },
  {
   "cell_type": "code",
   "execution_count": 7,
   "metadata": {},
   "outputs": [],
   "source": [
    "y = torch.zeros(4)\n",
    "torch.save([x, y], 'xy_file')"
   ]
  },
  {
   "cell_type": "code",
   "execution_count": 10,
   "metadata": {},
   "outputs": [
    {
     "data": {
      "text/plain": [
       "(tensor([0., 1., 2., 3.]),\n",
       " tensor([0., 0., 0., 0.]),\n",
       " tensor([True, True, True, True]),\n",
       " tensor([0., 0., 0., 0.]))"
      ]
     },
     "execution_count": 10,
     "metadata": {},
     "output_type": "execute_result"
    }
   ],
   "source": [
    "x2, y2 = torch.load('xy_file')\n",
    "x2, y2, y2 == y, y"
   ]
  },
  {
   "cell_type": "markdown",
   "metadata": {},
   "source": [
    "## tensor dict"
   ]
  },
  {
   "cell_type": "code",
   "execution_count": 11,
   "metadata": {},
   "outputs": [
    {
     "data": {
      "text/plain": [
       "{'x': tensor([0., 1., 2., 3.]), 'y': tensor([0., 0., 0., 0.])}"
      ]
     },
     "execution_count": 11,
     "metadata": {},
     "output_type": "execute_result"
    }
   ],
   "source": [
    "dic = {'x': x, 'y': y}\n",
    "torch.save(dic, 'dict_file')\n",
    "torch.load('dict_file')"
   ]
  },
  {
   "cell_type": "markdown",
   "metadata": {},
   "source": [
    "# Torch Model Parameters"
   ]
  },
  {
   "cell_type": "code",
   "execution_count": 13,
   "metadata": {},
   "outputs": [],
   "source": [
    "class MLP(nn.Module):\n",
    "    def __init__(self):\n",
    "        super().__init__()\n",
    "        self.hidden = nn.Linear(20, 256)\n",
    "        self.output = nn.Linear(256, 10)\n",
    "        self.relu = nn.ReLU()\n",
    "    def forward(self, x):\n",
    "        H_1 = self.relu(self.hidden(x))\n",
    "        out = self.output(H_1)\n",
    "        return out\n",
    "\n",
    "net = MLP()\n",
    "x = torch.randn(size=(2, 20))\n",
    "y = net(x)"
   ]
  },
  {
   "cell_type": "code",
   "execution_count": 14,
   "metadata": {},
   "outputs": [
    {
     "data": {
      "text/plain": [
       "tensor([[ 0.0450,  0.0093,  0.2300, -0.2451,  0.5008,  0.0085,  0.0680,  0.6359,\n",
       "          0.2762, -0.0976],\n",
       "        [-0.1314, -0.2633,  0.2501, -0.2915,  0.5085, -0.0314, -0.0043,  0.4260,\n",
       "          0.1069, -0.3342]], grad_fn=<AddmmBackward>)"
      ]
     },
     "execution_count": 14,
     "metadata": {},
     "output_type": "execute_result"
    }
   ],
   "source": [
    "y"
   ]
  },
  {
   "cell_type": "code",
   "execution_count": 15,
   "metadata": {},
   "outputs": [],
   "source": [
    "torch.save(net.state_dict(), 'mlp_params')"
   ]
  },
  {
   "cell_type": "code",
   "execution_count": 16,
   "metadata": {},
   "outputs": [
    {
     "data": {
      "text/plain": [
       "OrderedDict([('hidden.weight',\n",
       "              tensor([[-0.1825, -0.1946, -0.1661,  ...,  0.0833, -0.1339,  0.0139],\n",
       "                      [ 0.0015,  0.1536, -0.1240,  ...,  0.1829, -0.0567,  0.0674],\n",
       "                      [ 0.1413,  0.0682, -0.0787,  ...,  0.0832, -0.0452,  0.2068],\n",
       "                      ...,\n",
       "                      [-0.0479,  0.0089, -0.0342,  ...,  0.0622,  0.1368,  0.1644],\n",
       "                      [-0.2088, -0.2182,  0.0491,  ..., -0.0166, -0.1923, -0.0050],\n",
       "                      [-0.0231, -0.1908, -0.0692,  ...,  0.1930,  0.0547, -0.1499]])),\n",
       "             ('hidden.bias',\n",
       "              tensor([-0.1597, -0.0453, -0.0149, -0.1622, -0.1095,  0.2111,  0.1203, -0.2092,\n",
       "                      -0.1502,  0.1776,  0.1334,  0.1405, -0.0854,  0.0398,  0.2105, -0.0225,\n",
       "                      -0.2029, -0.1218, -0.0329, -0.0736, -0.1598,  0.2056, -0.0119,  0.1702,\n",
       "                       0.1926,  0.1654,  0.2227,  0.0925,  0.0844, -0.1869,  0.2206,  0.0753,\n",
       "                       0.0894,  0.2225, -0.1698,  0.0430, -0.0948,  0.2158,  0.0213, -0.0462,\n",
       "                      -0.1792, -0.2019,  0.0048,  0.1001,  0.2035, -0.0399, -0.0385,  0.2050,\n",
       "                      -0.1355,  0.0272,  0.0219,  0.0316,  0.1671,  0.1330, -0.1997,  0.0047,\n",
       "                       0.0563, -0.1614,  0.0969,  0.1306, -0.0780,  0.0268,  0.0736,  0.0687,\n",
       "                      -0.0500, -0.0842, -0.0079, -0.0528, -0.0989,  0.1079,  0.0403, -0.0012,\n",
       "                       0.0674, -0.1268, -0.2006,  0.1348,  0.0116,  0.0847,  0.0172, -0.1075,\n",
       "                      -0.2167,  0.0227,  0.1322, -0.0255, -0.1580, -0.0894, -0.1836,  0.1249,\n",
       "                      -0.0537, -0.0735, -0.1879,  0.1625,  0.0992, -0.0779, -0.0358, -0.1041,\n",
       "                      -0.0044, -0.0369,  0.1212, -0.0415,  0.1653, -0.0984,  0.1645, -0.0029,\n",
       "                      -0.1531, -0.1572, -0.1451,  0.1951, -0.0444, -0.1082, -0.2190, -0.0856,\n",
       "                      -0.0853, -0.1904, -0.1099, -0.1611,  0.2189, -0.2129, -0.2136,  0.1639,\n",
       "                      -0.1776, -0.0329,  0.1456,  0.1245,  0.0388,  0.1448, -0.0125,  0.1375,\n",
       "                       0.2046,  0.0377, -0.1888, -0.0863,  0.0847,  0.0471,  0.1470, -0.0047,\n",
       "                       0.0152, -0.1076,  0.1337, -0.0079, -0.0440,  0.0831,  0.1967, -0.1161,\n",
       "                       0.0900,  0.1135,  0.0856, -0.0362,  0.1146, -0.1818,  0.0059,  0.1046,\n",
       "                      -0.0889,  0.1527,  0.1117, -0.0833, -0.0137,  0.1504,  0.1069,  0.0269,\n",
       "                      -0.1053, -0.1249,  0.2037, -0.0801,  0.0165, -0.0254, -0.0190, -0.1255,\n",
       "                      -0.2079, -0.1498, -0.0787,  0.1196,  0.1850, -0.2214, -0.0610,  0.0005,\n",
       "                       0.2051,  0.1942,  0.1308, -0.0547, -0.1857,  0.2150, -0.0916,  0.0348,\n",
       "                      -0.1454, -0.0775, -0.1695, -0.0230,  0.1364, -0.0921,  0.0515,  0.0976,\n",
       "                       0.0292,  0.0092,  0.1340,  0.0037, -0.0068, -0.0220,  0.0811,  0.0424,\n",
       "                       0.0143,  0.1796,  0.1122,  0.0273, -0.1715,  0.0630, -0.0065, -0.0830,\n",
       "                       0.2121, -0.1562,  0.1539, -0.0986,  0.0103,  0.2123,  0.1688, -0.1281,\n",
       "                      -0.1694, -0.0663,  0.0216,  0.0041, -0.1766,  0.1660, -0.1608, -0.0153,\n",
       "                      -0.0609, -0.2054,  0.2230, -0.0891, -0.0301, -0.0217, -0.0509, -0.0150,\n",
       "                       0.0248, -0.0586, -0.0243,  0.1462,  0.1090,  0.0906,  0.1924,  0.1160,\n",
       "                       0.0842,  0.0204,  0.1970, -0.2094,  0.0710, -0.1976, -0.1832, -0.0707,\n",
       "                      -0.1455, -0.1189, -0.0443,  0.0258, -0.1362, -0.1928,  0.0030, -0.1278])),\n",
       "             ('output.weight',\n",
       "              tensor([[-0.0127, -0.0597, -0.0579,  ..., -0.0074, -0.0010, -0.0522],\n",
       "                      [-0.0505, -0.0526, -0.0496,  ..., -0.0140,  0.0617,  0.0517],\n",
       "                      [ 0.0534, -0.0540,  0.0169,  ..., -0.0166,  0.0538, -0.0322],\n",
       "                      ...,\n",
       "                      [ 0.0282,  0.0470,  0.0372,  ..., -0.0556,  0.0125,  0.0445],\n",
       "                      [-0.0038, -0.0508, -0.0250,  ...,  0.0021, -0.0447, -0.0453],\n",
       "                      [ 0.0458,  0.0530, -0.0269,  ...,  0.0296,  0.0563,  0.0438]])),\n",
       "             ('output.bias',\n",
       "              tensor([-0.0416, -0.0605, -0.0213, -0.0020,  0.0322,  0.0142, -0.0021, -0.0143,\n",
       "                       0.0111, -0.0137]))])"
      ]
     },
     "execution_count": 16,
     "metadata": {},
     "output_type": "execute_result"
    }
   ],
   "source": [
    "params = torch.load('mlp_params')\n",
    "params"
   ]
  },
  {
   "cell_type": "code",
   "execution_count": 17,
   "metadata": {},
   "outputs": [
    {
     "data": {
      "text/plain": [
       "MLP(\n",
       "  (hidden): Linear(in_features=20, out_features=256, bias=True)\n",
       "  (output): Linear(in_features=256, out_features=10, bias=True)\n",
       "  (relu): ReLU()\n",
       ")"
      ]
     },
     "execution_count": 17,
     "metadata": {},
     "output_type": "execute_result"
    }
   ],
   "source": [
    "net_cp = MLP()\n",
    "net_cp.load_state_dict(torch.load('mlp_params'))\n",
    "net_cp.eval()"
   ]
  },
  {
   "cell_type": "code",
   "execution_count": 18,
   "metadata": {},
   "outputs": [
    {
     "data": {
      "text/plain": [
       "tensor([[True, True, True, True, True, True, True, True, True, True],\n",
       "        [True, True, True, True, True, True, True, True, True, True]])"
      ]
     },
     "execution_count": 18,
     "metadata": {},
     "output_type": "execute_result"
    }
   ],
   "source": [
    "net_cp(x) == y"
   ]
  },
  {
   "cell_type": "code",
   "execution_count": null,
   "metadata": {},
   "outputs": [],
   "source": []
  }
 ],
 "metadata": {
  "kernelspec": {
   "display_name": "Python [conda env:d2l] *",
   "language": "python",
   "name": "conda-env-d2l-py"
  },
  "language_info": {
   "codemirror_mode": {
    "name": "ipython",
    "version": 3
   },
   "file_extension": ".py",
   "mimetype": "text/x-python",
   "name": "python",
   "nbconvert_exporter": "python",
   "pygments_lexer": "ipython3",
   "version": "3.7.7"
  }
 },
 "nbformat": 4,
 "nbformat_minor": 4
}
