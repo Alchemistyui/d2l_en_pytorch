{
 "cells": [
  {
   "cell_type": "markdown",
   "metadata": {},
   "source": [
    "# Implementation from Scratch"
   ]
  },
  {
   "cell_type": "code",
   "execution_count": 72,
   "metadata": {},
   "outputs": [],
   "source": [
    "import torch\n",
    "import torchvision\n",
    "from torchvision import datasets, transforms\n",
    "from torch.utils.data import DataLoader\n",
    "\n",
    "import pdb\n",
    "from torch.autograd import Variable"
   ]
  },
  {
   "cell_type": "code",
   "execution_count": 64,
   "metadata": {},
   "outputs": [],
   "source": [
    "def dropout_layer(x, drop_p):\n",
    "    assert 0 <= drop_p <= 1\n",
    "    select = torch.rand(x.shape[1])\n",
    "    select = (select > drop_p).long()\n",
    "    if drop_p == 1:\n",
    "        return torch.zeros_like(x)\n",
    "    else:\n",
    "#         pdb.set_trace()\n",
    "        return torch.true_divide(x*select, 1-drop_p)"
   ]
  },
  {
   "cell_type": "code",
   "execution_count": 65,
   "metadata": {},
   "outputs": [
    {
     "data": {
      "text/plain": [
       "(tensor([[ 0.,  0.,  0.,  6.,  0., 10., 12., 14.],\n",
       "         [16.,  0.,  0., 22.,  0., 26., 28., 30.]]),\n",
       " tensor([[ 0.,  1.,  2.,  3.,  4.,  5.,  6.,  7.],\n",
       "         [ 8.,  9., 10., 11., 12., 13., 14., 15.]]),\n",
       " tensor([[0, 0, 0, 0, 0, 0, 0, 0],\n",
       "         [0, 0, 0, 0, 0, 0, 0, 0]]))"
      ]
     },
     "execution_count": 65,
     "metadata": {},
     "output_type": "execute_result"
    }
   ],
   "source": [
    "x = torch.arange(16).reshape(2, 8)\n",
    "dropout_layer(x, 0.5), dropout_layer(x, 0), dropout_layer(x, 1)"
   ]
  },
  {
   "cell_type": "markdown",
   "metadata": {},
   "source": [
    "## Read data"
   ]
  },
  {
   "cell_type": "code",
   "execution_count": 75,
   "metadata": {},
   "outputs": [],
   "source": [
    "num_epochs, lr, batch_size = 10, 0.5, 256\n",
    "\n",
    "trans = transforms.ToTensor()\n",
    "\n",
    "trainset = datasets.FashionMNIST(root='../data/', transform=trans, train=True)\n",
    "testset = datasets.FashionMNIST(root='../data/', transform=trans, train=False)\n",
    "\n",
    "train_loader = DataLoader(dataset=trainset, batch_size=batch_size, shuffle=True, num_workers=4)\n",
    "test_loader = DataLoader(dataset=testset, batch_size=batch_size, shuffle=True, num_workers=4)"
   ]
  },
  {
   "cell_type": "markdown",
   "metadata": {},
   "source": [
    "## define model parameters"
   ]
  },
  {
   "cell_type": "code",
   "execution_count": 76,
   "metadata": {},
   "outputs": [],
   "source": [
    "dim_input, n_output, n_hidden1, n_hidden2 = 784, 10, 256, 256\n",
    "\n",
    "w1 = Variable(torch.randn(dim_input, n_hidden1))\n",
    "b1 = Variable(torch.zeros(n_hidden1))\n",
    "w2 = Variable(torch.randn(n_hidden1, n_hidden2))\n",
    "b2 = Variable(torch.zeros(n_hidden2))\n",
    "w3 = Variable(torch.randn(n_hidden2, n_output))\n",
    "b3 = Variable(torch.zeros(n_output))\n",
    "\n",
    "# params = [w1, b1, w2, b2, w3, b3]"
   ]
  },
  {
   "cell_type": "markdown",
   "metadata": {},
   "source": [
    "## define the model"
   ]
  },
  {
   "cell_type": "code",
   "execution_count": 77,
   "metadata": {},
   "outputs": [],
   "source": [
    "drop_p1, drop_p2 = 0.2, 0.5\n",
    "\n",
    "def net(x, train):\n",
    "    x = x.reshape(x.shape[0], -1)\n",
    "    h1 = nn.ReLU(torch.mm(w1, x) + b1)\n",
    "    if train:\n",
    "        h1 = dropout_layer(h1, drop_p1)\n",
    "    h2 = nn.ReLU(torch.mm(w2, h1) + b2)\n",
    "    if train:\n",
    "        h2 = dropout_layer(h2, drop_p2)\n",
    "    output = nn.ReLU(torch.mm(w3, h2) + b3)\n",
    "    \n",
    "    return output"
   ]
  },
  {
   "cell_type": "code",
   "execution_count": 80,
   "metadata": {},
   "outputs": [],
   "source": [
    "def sgd(params, lr, bs):\n",
    "    for param in params:\n",
    "        param.data.sub_(lr*param.grad / bs)\n",
    "        param.grad.data.zero_()"
   ]
  },
  {
   "cell_type": "markdown",
   "metadata": {},
   "source": [
    "## Training & Testing"
   ]
  },
  {
   "cell_type": "code",
   "execution_count": 78,
   "metadata": {},
   "outputs": [
    {
     "ename": "SyntaxError",
     "evalue": "unexpected EOF while parsing (<ipython-input-78-1f1745b77b6e>, line 3)",
     "output_type": "error",
     "traceback": [
      "\u001b[0;36m  File \u001b[0;32m\"<ipython-input-78-1f1745b77b6e>\"\u001b[0;36m, line \u001b[0;32m3\u001b[0m\n\u001b[0;31m    for idx, data in train_loader:\u001b[0m\n\u001b[0m                                  ^\u001b[0m\n\u001b[0;31mSyntaxError\u001b[0m\u001b[0;31m:\u001b[0m unexpected EOF while parsing\n"
     ]
    }
   ],
   "source": [
    "def train():\n",
    "    params = [w1, b1, w2, b2, w3, b3]\n",
    "    loss_func = nn.CrossEntropyLoss()\n",
    "#     optim = torch.optim.SGD()\n",
    "    for epo in range(num_epochs):\n",
    "        for idx, data in train_loader:\n",
    "            img, label = data\n",
    "            output = net(img, True)\n",
    "            loss = loss_func(output, label)\n",
    "            loss.backward()\n",
    "            sgd(params ,lr, batch_size)\n",
    "            "
   ]
  },
  {
   "cell_type": "code",
   "execution_count": null,
   "metadata": {},
   "outputs": [],
   "source": [
    "def evaluate():\n",
    "    "
   ]
  }
 ],
 "metadata": {
  "kernelspec": {
   "display_name": "Python [conda env:d2l] *",
   "language": "python",
   "name": "conda-env-d2l-py"
  },
  "language_info": {
   "codemirror_mode": {
    "name": "ipython",
    "version": 3
   },
   "file_extension": ".py",
   "mimetype": "text/x-python",
   "name": "python",
   "nbconvert_exporter": "python",
   "pygments_lexer": "ipython3",
   "version": "3.7.7"
  }
 },
 "nbformat": 4,
 "nbformat_minor": 4
}
