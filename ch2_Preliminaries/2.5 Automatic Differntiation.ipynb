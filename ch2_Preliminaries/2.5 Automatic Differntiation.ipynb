{
 "cells": [
  {
   "cell_type": "markdown",
   "metadata": {},
   "source": [
    "## 2.5.1 A simple example"
   ]
  },
  {
   "cell_type": "code",
   "execution_count": 79,
   "metadata": {},
   "outputs": [],
   "source": [
    "import torch\n",
    "from torch.autograd import Variable\n",
    "import numpy as np\n",
    "from matplotlib import pyplot as plt"
   ]
  },
  {
   "cell_type": "code",
   "execution_count": 9,
   "metadata": {},
   "outputs": [
    {
     "data": {
      "text/plain": [
       "tensor([[0.],\n",
       "        [1.],\n",
       "        [2.],\n",
       "        [3.]], requires_grad=True)"
      ]
     },
     "execution_count": 9,
     "metadata": {},
     "output_type": "execute_result"
    }
   ],
   "source": [
    "# For a tensor to be “recordable”, it must be wrapped with torch.autograd.Variable.\n",
    "x = Variable(torch.arange(4, dtype=torch.float32).reshape(4,1), requires_grad=True)\n",
    "x\n",
    "# Once we compute the gradient of y with respect to x, we will need a place to store it. \n",
    "# We can tell a tensor that we plan to store a gradient by the requires_grad=True keyword."
   ]
  },
  {
   "cell_type": "code",
   "execution_count": 21,
   "metadata": {},
   "outputs": [
    {
     "data": {
      "text/plain": [
       "tensor([[28.]], grad_fn=<MulBackward0>)"
      ]
     },
     "execution_count": 21,
     "metadata": {},
     "output_type": "execute_result"
    }
   ],
   "source": [
    "y = 2*torch.mm(x.t(), x)\n",
    "\n",
    "y"
   ]
  },
  {
   "cell_type": "code",
   "execution_count": 22,
   "metadata": {},
   "outputs": [],
   "source": [
    "y.backward()"
   ]
  },
  {
   "cell_type": "code",
   "execution_count": 24,
   "metadata": {},
   "outputs": [
    {
     "data": {
      "text/plain": [
       "(tensor([[ 0.],\n",
       "         [ 4.],\n",
       "         [ 8.],\n",
       "         [12.]]),\n",
       " None,\n",
       " <MulBackward0 at 0x7ffc29909bd0>)"
      ]
     },
     "execution_count": 24,
     "metadata": {},
     "output_type": "execute_result"
    }
   ],
   "source": [
    "x.grad, x.grad_fn, y.grad_fn"
   ]
  },
  {
   "cell_type": "code",
   "execution_count": 27,
   "metadata": {},
   "outputs": [
    {
     "data": {
      "text/plain": [
       "(tensor([0., 1., 2., 3., 4.], requires_grad=True),\n",
       " tensor(10., grad_fn=<SumBackward0>))"
      ]
     },
     "execution_count": 27,
     "metadata": {},
     "output_type": "execute_result"
    }
   ],
   "source": [
    "# sample 2\n",
    "x = Variable(torch.arange(5, dtype=torch.float32), requires_grad = True)\n",
    "y = x.sum()\n",
    "x, y"
   ]
  },
  {
   "cell_type": "code",
   "execution_count": 28,
   "metadata": {},
   "outputs": [
    {
     "data": {
      "text/plain": [
       "tensor([1., 1., 1., 1., 1.])"
      ]
     },
     "execution_count": 28,
     "metadata": {},
     "output_type": "execute_result"
    }
   ],
   "source": [
    "y.backward()\n",
    "x.grad"
   ]
  },
  {
   "cell_type": "markdown",
   "metadata": {},
   "source": [
    "## 2.5.2 Backward for non-scalar Variables"
   ]
  },
  {
   "cell_type": "code",
   "execution_count": 69,
   "metadata": {},
   "outputs": [
    {
     "data": {
      "text/plain": [
       "(tensor([0., 1., 4., 9.], grad_fn=<PowBackward0>),\n",
       " tensor([0., 1., 2., 3.], requires_grad=True),\n",
       " tensor([0., 2., 4., 6.]),\n",
       " tensor([0., 2., 4., 6.], grad_fn=<MulBackward0>))"
      ]
     },
     "execution_count": 69,
     "metadata": {},
     "output_type": "execute_result"
    }
   ],
   "source": [
    "x = Variable(torch.arange(4, dtype=torch.float32), requires_grad = True)\n",
    "y = x **2 \n",
    "# when y is not a scalar, RuntimeError: grad can be implicitly created only for scalar outputs\n",
    "# y.backward()\n",
    "\n",
    "# correct way\n",
    "# y.sum().backward() # change the vector y into scalar, and the grad not change\n",
    "y.backward(torch.ones_like(y)) # multiply y with I in order to turn it to a scalar\n",
    "y, x, x.grad, 2*x"
   ]
  },
  {
   "cell_type": "markdown",
   "metadata": {},
   "source": [
    "## 2.5.3 Detach Computation"
   ]
  },
  {
   "cell_type": "code",
   "execution_count": 55,
   "metadata": {},
   "outputs": [
    {
     "data": {
      "text/plain": [
       "(tensor([0., 1., 4., 9.], grad_fn=<MulBackward0>),\n",
       " tensor([0., 1., 4., 9.]),\n",
       " tensor([0., 1., 4., 9.]),\n",
       " tensor([True, True, True, True]))"
      ]
     },
     "execution_count": 55,
     "metadata": {},
     "output_type": "execute_result"
    }
   ],
   "source": [
    "# detach is used to cut out the backpropagation from the computation graph\n",
    "# only save the value but not how it was computed\n",
    "x = Variable(torch.arange(4, dtype=torch.float32), requires_grad = True)\n",
    "y = x * x\n",
    "u = y.detach()\n",
    "z = u*x\n",
    "# z2 = y*x\n",
    "\n",
    "z.sum().backward()\n",
    "# x2.back\n",
    "x * x, u, x.grad, x.grad == u"
   ]
  },
  {
   "cell_type": "markdown",
   "metadata": {},
   "source": [
    "## 2.5.4 Computing Gradient of Python control flow"
   ]
  },
  {
   "cell_type": "code",
   "execution_count": 62,
   "metadata": {},
   "outputs": [
    {
     "data": {
      "text/plain": [
       "(tensor([0.2590], requires_grad=True),\n",
       " tensor([4096.]),\n",
       " tensor([4096.], grad_fn=<DivBackward0>))"
      ]
     },
     "execution_count": 62,
     "metadata": {},
     "output_type": "execute_result"
    }
   ],
   "source": [
    "def f(a):\n",
    "    b = 2*a\n",
    "    while b.norm().item() < 1000:\n",
    "        b = 2*b\n",
    "    if b.sum() > 0:\n",
    "        c = b\n",
    "    else:\n",
    "        c = 100*b\n",
    "        \n",
    "    return c\n",
    "\n",
    "a = Variable(torch.randn(1), requires_grad=True)\n",
    "d = f(a)\n",
    "d.backward()\n",
    "a, a.grad, d/a"
   ]
  },
  {
   "cell_type": "markdown",
   "metadata": {},
   "source": [
    "## 2.5.5 Chain Rule & head gradient"
   ]
  },
  {
   "cell_type": "code",
   "execution_count": 67,
   "metadata": {},
   "outputs": [
    {
     "data": {
      "text/plain": [
       "tensor([0.0000, 4.0000, 0.8000, 0.1200])"
      ]
     },
     "execution_count": 67,
     "metadata": {},
     "output_type": "execute_result"
    }
   ],
   "source": [
    "x = Variable(torch.arange(4, dtype=torch.float32), requires_grad=True)\n",
    "\n",
    "y = x *2\n",
    "z = y*x\n",
    "# head grad is a little bit like weight for \n",
    "head_gradient = torch.tensor([10, 1., .1, .01])\n",
    "z.backward(head_gradient)\n",
    "x.grad"
   ]
  },
  {
   "cell_type": "markdown",
   "metadata": {},
   "source": [
    "## Exercise"
   ]
  },
  {
   "cell_type": "code",
   "execution_count": 72,
   "metadata": {},
   "outputs": [
    {
     "data": {
      "text/plain": [
       "(tensor([  466.1540,   367.0919, -1133.7808,   410.4039],\n",
       "        grad_fn=<MulBackward0>),\n",
       " tensor([ 0.9105,  0.7170, -2.2144,  0.8016], requires_grad=True),\n",
       " tensor([512., 512., 512., 512.]),\n",
       " tensor([512., 512., 512., 512.], grad_fn=<DivBackward0>))"
      ]
     },
     "execution_count": 72,
     "metadata": {},
     "output_type": "execute_result"
    }
   ],
   "source": [
    "def f(a):\n",
    "    b = 2*a\n",
    "    while b.norm().item() < 1000:\n",
    "        b = 2*b\n",
    "    if b.sum() > 0:\n",
    "        c = b\n",
    "    else:\n",
    "        c = 100*b\n",
    "        \n",
    "    return c\n",
    "\n",
    "a = Variable(torch.randn(4), requires_grad=True)\n",
    "d = f(a)\n",
    "d.sum().backward()\n",
    "d, a, a.grad, d/a"
   ]
  },
  {
   "cell_type": "code",
   "execution_count": 86,
   "metadata": {},
   "outputs": [
    {
     "data": {
      "image/png": "[encoded data removed]",
      "text/plain": [
       "<Figure size 432x288 with 1 Axes>"
      ]
     },
     "metadata": {
      "needs_background": "light"
     },
     "output_type": "display_data"
    }
   ],
   "source": [
    "def f(x):\n",
    "    return torch.sin(x)\n",
    "\n",
    "data = torch.arange(0,2.5,0.1)\n",
    "data = data*np.pi\n",
    "\n",
    "def derivative(x, h=0.01):\n",
    "    return (f(x+h) - f(x))/h\n",
    "\n",
    "plt.plot(data, f(data), label='sin')\n",
    "plt.plot(data, derivative(data), label='cos')\n",
    "\n",
    "plt.grid(True)\n",
    "plt.legend()\n",
    "\n",
    "plt.show()"
   ]
  },
  {
   "cell_type": "code",
   "execution_count": null,
   "metadata": {},
   "outputs": [],
   "source": []
  }
 ],
 "metadata": {
  "kernelspec": {
   "display_name": "Python [conda env:d2l] *",
   "language": "python",
   "name": "conda-env-d2l-py"
  },
  "language_info": {
   "codemirror_mode": {
    "name": "ipython",
    "version": 3
   },
   "file_extension": ".py",
   "mimetype": "text/x-python",
   "name": "python",
   "nbconvert_exporter": "python",
   "pygments_lexer": "ipython3",
   "version": "3.7.7"
  }
 },
 "nbformat": 4,
 "nbformat_minor": 4
}
